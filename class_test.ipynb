{
 "cells": [
  {
   "cell_type": "code",
   "execution_count": 39,
   "metadata": {},
   "outputs": [
    {
     "data": {
      "text/plain": [
       "0"
      ]
     },
     "execution_count": 39,
     "metadata": {},
     "output_type": "execute_result"
    }
   ],
   "source": [
    "class Person():\n",
    "    def __init__(self):\n",
    "        self.age = 10\n",
    "        self.siblings = 2\n",
    "    def reset(self, value):\n",
    "        setattr(self,value,0)\n",
    "\n",
    "bob = Person()\n",
    "bob.age = 0\n",
    "bob.age += 1\n",
    "bob.age += 1\n",
    "bob.age = 0\n",
    "bob.age\n",
    "\n"
   ]
  },
  {
   "cell_type": "code",
   "execution_count": 40,
   "metadata": {},
   "outputs": [
    {
     "name": "stdout",
     "output_type": "stream",
     "text": [
      "1\n",
      "0\n",
      "0\n",
      "3\n"
     ]
    }
   ],
   "source": [
    "class MyClass:\n",
    "    def __init__(self, attr1, attr2, attr3):\n",
    "        self.attr1 = attr1\n",
    "        self.attr2 = attr2\n",
    "        self.attr3 = attr3\n",
    "\n",
    "    def reset_attributes(self, attr_names):\n",
    "        for attr_name in attr_names:\n",
    "            setattr(self, attr_name, 0)\n",
    "\n",
    "# Example usage\n",
    "obj = MyClass(1, 2, 3)\n",
    "print(obj.attr1)  # prints 1\n",
    "obj.reset_attributes(['attr1', 'attr2'])\n",
    "print(obj.attr1)  # prints 0\n",
    "print(obj.attr2)  # prints 0\n",
    "print(obj.attr3)  # prints 3"
   ]
  },
  {
   "cell_type": "code",
   "execution_count": 41,
   "metadata": {},
   "outputs": [],
   "source": [
    "import random\n",
    "balloon_dict = {\"pink\": [4,8], \"blue\": [9,10]}\n",
    "colour, pop_at =  random.choice(list(balloon_dict.items()))\n",
    "lower_pop, upper_pop = pop_at\n",
    "lower_pop\n",
    "\n",
    "pop_at = random.randint(lower_pop, upper_pop)"
   ]
  },
  {
   "cell_type": "code",
   "execution_count": 42,
   "metadata": {},
   "outputs": [],
   "source": [
    "balloon_dict = {\"pink\": [4,8], \"blue\": [9,10]}\n"
   ]
  },
  {
   "cell_type": "code",
   "execution_count": 43,
   "metadata": {},
   "outputs": [],
   "source": [
    "# balloon_dict = {\"pink\": [4,8], \"blue\": [9,10]}\n",
    "\n",
    "# import pandas as pd\n",
    "\n",
    "# csv_data = pd.DataFrame(balloon_dict)\n",
    "# csv_data_export = csv_data.to_csv('GfG.csv', index = False)\n",
    "\n",
    "# data = pd.read_csv(\"GfG.csv\")\n",
    "# data"
   ]
  },
  {
   "cell_type": "code",
   "execution_count": 44,
   "metadata": {},
   "outputs": [
    {
     "data": {
      "text/plain": [
       "{'trial_number': [1],\n",
       " 'balloon': [],\n",
       " 'pop_at': [],\n",
       " 'pumps': [],\n",
       " 'total_pumps': [],\n",
       " 'total_earned': []}"
      ]
     },
     "execution_count": 44,
     "metadata": {},
     "output_type": "execute_result"
    }
   ],
   "source": [
    "def init_empty_list_dict(keys): # create a dictionary with an empty list for each key. For exporting the data to. \n",
    "    empty_list_dict = {new_list: [] for new_list in keys}\n",
    "    return empty_list_dict\n",
    "\n",
    "trial_data = init_empty_list_dict(keys = [\"trial_number\", \"balloon\", \"pop_at\", \"pumps\", \"total_pumps\", \"total_earned\"]) # set column names as the keys\n",
    "\n",
    "\n",
    "\n",
    "trial_data[\"trial_number\"].append(1)\n",
    "trial_data\n"
   ]
  },
  {
   "cell_type": "code",
   "execution_count": 45,
   "metadata": {},
   "outputs": [],
   "source": [
    "def func_sub(x):\n",
    "    return x + 1"
   ]
  },
  {
   "cell_type": "code",
   "execution_count": 46,
   "metadata": {},
   "outputs": [],
   "source": [
    "def func_main(x):\n",
    "    val = func_sub(x)\n",
    "    return val"
   ]
  },
  {
   "cell_type": "code",
   "execution_count": 12,
   "metadata": {},
   "outputs": [
    {
     "data": {
      "text/plain": [
       "[0, 1]"
      ]
     },
     "execution_count": 12,
     "metadata": {},
     "output_type": "execute_result"
    }
   ],
   "source": [
    "[_ for _ in range(2)]\n",
    "\n"
   ]
  },
  {
   "cell_type": "code",
   "execution_count": 1,
   "metadata": {},
   "outputs": [],
   "source": [
    "class Parent():\n",
    "    def __init__(self, value, name) -> None:\n",
    "        self.name = name\n",
    "        self.value = value\n",
    "    def print(self):\n",
    "        print(self.name)\n",
    "\n",
    "class Child(Parent):\n",
    "    def __init__(self, child_stuff) -> None:\n",
    "        self.child_stuff = child_stuff"
   ]
  },
  {
   "cell_type": "code",
   "execution_count": 4,
   "metadata": {},
   "outputs": [
    {
     "name": "stdout",
     "output_type": "stream",
     "text": [
      "\n",
      "Imagine that your are applying for PwC (a consulting company).\n",
      "\n",
      "PwC are hosting a conference and want to pay you to inflate 4 balloons.\n",
      "\n",
      "You will earn more money for bigger balloons. Each time you inflate the ballon you will earn £0.05.\n",
      "\n",
      "However, if you burst the balloon you will earn nothing. Try to earn as much money as you can. \n",
      "\n",
      "Click next the see a demonstration. \n",
      "\n",
      "\n",
      "\n",
      "\n"
     ]
    }
   ],
   "source": [
    "from experiment_config import *\n",
    "#\n",
    "print(f\"\"\"\n",
    "Imagine that your are applying for PwC (a consulting company).\n",
    "\n",
    "PwC are hosting a conference and want to pay you to inflate {n_trials} balloons.\n",
    "\n",
    "You will earn more money for bigger balloons. Each time you inflate the ballon you will earn £{money_per_pump}.\n",
    "\n",
    "However, if you burst the balloon you will earn nothing. Try to earn as much money as you can. \n",
    "\n",
    "Click next the see a demonstration. \n",
    "\n",
    "\"\"\")"
   ]
  }
 ],
 "metadata": {
  "kernelspec": {
   "display_name": "Python 3",
   "language": "python",
   "name": "python3"
  },
  "language_info": {
   "codemirror_mode": {
    "name": "ipython",
    "version": 3
   },
   "file_extension": ".py",
   "mimetype": "text/x-python",
   "name": "python",
   "nbconvert_exporter": "python",
   "pygments_lexer": "ipython3",
   "version": "3.10.6"
  },
  "orig_nbformat": 4,
  "vscode": {
   "interpreter": {
    "hash": "13f8520f981870c06b0242d7babc32f05d542470433d94bc14c51c6c7d70cf4e"
   }
  }
 },
 "nbformat": 4,
 "nbformat_minor": 2
}
