{
 "cells": [
  {
   "cell_type": "code",
   "execution_count": 22,
   "metadata": {},
   "outputs": [],
   "source": [
    "class BalloonGameTracker:\n",
    "  def __init__(self, money_per_pump):\n",
    "    # Start every tracker at 0\n",
    "    self.total_earned = 0\n",
    "    self.current_earned = 0\n",
    "    self.current_pumps = 0\n",
    "    self.total_pumps = 0\n",
    "    self.grand_total_pumps = 0\n",
    "    self.money_per_pump = money_per_pump # how much money per pump\n",
    "\n",
    "  def add_one(self, value): # add one to value \n",
    "    self.value += 1\n",
    "\n",
    "  def reset(self):\n",
    "    self.value = 0\n"
   ]
  },
  {
   "cell_type": "code",
   "execution_count": 23,
   "metadata": {},
   "outputs": [
    {
     "ename": "AttributeError",
     "evalue": "'BalloonGameTracker' object has no attribute 'value'",
     "output_type": "error",
     "traceback": [
      "\u001b[1;31m---------------------------------------------------------------------------\u001b[0m",
      "\u001b[1;31mAttributeError\u001b[0m                            Traceback (most recent call last)",
      "\u001b[1;32mc:\\Users\\benay\\Documents\\UCL\\3rd year\\3rd year psychology\\Computer Programming\\Coursework\\Assignment 3\\balloon_tracker.ipynb Cell 2\u001b[0m in \u001b[0;36m<cell line: 3>\u001b[1;34m()\u001b[0m\n\u001b[0;32m      <a href='vscode-notebook-cell:/c%3A/Users/benay/Documents/UCL/3rd%20year/3rd%20year%20psychology/Computer%20Programming/Coursework/Assignment%203/balloon_tracker.ipynb#W1sZmlsZQ%3D%3D?line=0'>1</a>\u001b[0m tracker \u001b[39m=\u001b[39m BalloonGameTracker(money_per_pump\u001b[39m=\u001b[39m\u001b[39m0.05\u001b[39m)\n\u001b[1;32m----> <a href='vscode-notebook-cell:/c%3A/Users/benay/Documents/UCL/3rd%20year/3rd%20year%20psychology/Computer%20Programming/Coursework/Assignment%203/balloon_tracker.ipynb#W1sZmlsZQ%3D%3D?line=2'>3</a>\u001b[0m tracker\u001b[39m.\u001b[39;49madd_one(value \u001b[39m=\u001b[39;49m current_pumps)\n",
      "\u001b[1;32mc:\\Users\\benay\\Documents\\UCL\\3rd year\\3rd year psychology\\Computer Programming\\Coursework\\Assignment 3\\balloon_tracker.ipynb Cell 2\u001b[0m in \u001b[0;36mBalloonGameTracker.add_one\u001b[1;34m(self, value)\u001b[0m\n\u001b[0;32m     <a href='vscode-notebook-cell:/c%3A/Users/benay/Documents/UCL/3rd%20year/3rd%20year%20psychology/Computer%20Programming/Coursework/Assignment%203/balloon_tracker.ipynb#W1sZmlsZQ%3D%3D?line=10'>11</a>\u001b[0m \u001b[39mdef\u001b[39;00m \u001b[39madd_one\u001b[39m(\u001b[39mself\u001b[39m, value): \u001b[39m# add one to value \u001b[39;00m\n\u001b[1;32m---> <a href='vscode-notebook-cell:/c%3A/Users/benay/Documents/UCL/3rd%20year/3rd%20year%20psychology/Computer%20Programming/Coursework/Assignment%203/balloon_tracker.ipynb#W1sZmlsZQ%3D%3D?line=11'>12</a>\u001b[0m   \u001b[39mself\u001b[39m\u001b[39m.\u001b[39mvalue \u001b[39m+\u001b[39m\u001b[39m=\u001b[39m \u001b[39m1\u001b[39m\n",
      "\u001b[1;31mAttributeError\u001b[0m: 'BalloonGameTracker' object has no attribute 'value'"
     ]
    }
   ],
   "source": [
    "tracker = BalloonGameTracker(money_per_pump=0.05)\n",
    "\n",
    "# tracker.add_one(value = current_pumps)"
   ]
  },
  {
   "cell_type": "code",
   "execution_count": null,
   "metadata": {},
   "outputs": [],
   "source": [
    "FOO = \"BH\""
   ]
  },
  {
   "cell_type": "code",
   "execution_count": 1,
   "metadata": {},
   "outputs": [
    {
     "data": {
      "text/plain": [
       "0"
      ]
     },
     "execution_count": 1,
     "metadata": {},
     "output_type": "execute_result"
    }
   ],
   "source": [
    "class Counter:\n",
    "  def __init__(self, value = 0):\n",
    "    # Start every tracker at 0\n",
    "    self.value = value\n",
    "\n",
    "  def increment(self, increment_by = 1): # add one to value \n",
    "    self.value += increment_by\n",
    "\n",
    "  def reset(self):\n",
    "    self.value = 0\n",
    "\n",
    "\n",
    "current_pumps = Counter()\n",
    "current_pumps.increment(2)\n",
    "current_pumps.increment(2)\n",
    "current_pumps.increment()\n",
    "current_pumps.increment()\n",
    "current_pumps.reset()\n",
    "current_pumps.value"
   ]
  },
  {
   "cell_type": "code",
   "execution_count": 1,
   "metadata": {},
   "outputs": [
    {
     "data": {
      "text/plain": [
       "-4"
      ]
     },
     "execution_count": 1,
     "metadata": {},
     "output_type": "execute_result"
    }
   ],
   "source": [
    "a = 4\n",
    "b = -a\n",
    "b"
   ]
  }
 ],
 "metadata": {
  "kernelspec": {
   "display_name": "Python 3",
   "language": "python",
   "name": "python3"
  },
  "language_info": {
   "codemirror_mode": {
    "name": "ipython",
    "version": 3
   },
   "file_extension": ".py",
   "mimetype": "text/x-python",
   "name": "python",
   "nbconvert_exporter": "python",
   "pygments_lexer": "ipython3",
   "version": "3.10.6 (tags/v3.10.6:9c7b4bd, Aug  1 2022, 21:53:49) [MSC v.1932 64 bit (AMD64)]"
  },
  "orig_nbformat": 4,
  "vscode": {
   "interpreter": {
    "hash": "13f8520f981870c06b0242d7babc32f05d542470433d94bc14c51c6c7d70cf4e"
   }
  }
 },
 "nbformat": 4,
 "nbformat_minor": 2
}
